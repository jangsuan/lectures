{
 "cells": [
  {
   "cell_type": "code",
   "execution_count": 6,
   "id": "620961ca-6aff-4fe7-bf64-3d3400a028e8",
   "metadata": {},
   "outputs": [
    {
     "name": "stdout",
     "output_type": "stream",
     "text": [
      "4\n"
     ]
    },
    {
     "data": {
      "text/plain": [
       "2"
      ]
     },
     "execution_count": 6,
     "metadata": {},
     "output_type": "execute_result"
    }
   ],
   "source": [
    "\"\"\"\n",
    "functions vs method\n",
    "\"\"\"\n",
    "\n",
    "def my_function(x):\n",
    "    return x+1\n",
    "\n",
    "y = 3\n",
    "result = my_function(y)\n",
    "print(result)\n",
    "\n",
    "x = 1\n",
    "class my_class:\n",
    "    def my_method(self):\n",
    "        return x+1\n",
    "\n",
    "cls = my_class()\n",
    "cls.my_method()"
   ]
  },
  {
   "cell_type": "code",
   "execution_count": 8,
   "id": "477e6fcf-9d3f-4de3-814c-72895983cce0",
   "metadata": {},
   "outputs": [
    {
     "name": "stdout",
     "output_type": "stream",
     "text": [
      "Hello everyone, My name is Suan Jang, I was born in 2001, and I live in Suwon\n"
     ]
    }
   ],
   "source": [
    "\"\"\"\n",
    "function parameters\n",
    "\"\"\"\n",
    "\n",
    "def introduce_myself(name, birthyear, city): # parameter\n",
    "    print(\"Hello everyone, My name is %s, I was born in %d, and I live in %s\" \\\n",
    "         % (name, birthyear, city))\n",
    "\n",
    "introduce_myself(\"Suan Jang\", 2001, \"Suwon\") # argument"
   ]
  },
  {
   "cell_type": "code",
   "execution_count": 11,
   "id": "f927bccb-e3c5-4563-997d-8fa3a69e2c41",
   "metadata": {},
   "outputs": [
    {
     "data": {
      "text/plain": [
       "'2020 is a leap year.'"
      ]
     },
     "execution_count": 11,
     "metadata": {},
     "output_type": "execute_result"
    }
   ],
   "source": [
    "\"\"\"\n",
    "return keyword\n",
    "\"\"\"\n",
    "\n",
    "# Leap year = 윤년 (2월 29일)\n",
    "def check_leap_year(year):\n",
    "    if year % 4 == 0:\n",
    "        return \"%s is a leap year.\" % (year)\n",
    "    else:\n",
    "        return \"%s is not a leap year.\" % (year)\n",
    "    \n",
    "check_leap_year(2020)"
   ]
  },
  {
   "cell_type": "code",
   "execution_count": 13,
   "id": "86cc026c-cfa8-4b0e-9d78-e36a7882e666",
   "metadata": {},
   "outputs": [
    {
     "name": "stdout",
     "output_type": "stream",
     "text": [
      "9 16 25\n"
     ]
    }
   ],
   "source": [
    "\"\"\"\n",
    "returning multiple values\n",
    "\"\"\"\n",
    "\n",
    "def square_point(x, y, z):\n",
    "    x_squared = x ** 2\n",
    "    y_squared = y ** 2\n",
    "    z_squared = z ** 2\n",
    "    return x_squared, y_squared, z_squared\n",
    "\n",
    "three_squared, four_squared, five_squared = square_point(3, 4, 5)\n",
    "print(three_squared, four_squared, five_squared)"
   ]
  },
  {
   "cell_type": "code",
   "execution_count": 15,
   "id": "9bcad1e1-1a65-40b3-b69b-3bef160de58c",
   "metadata": {},
   "outputs": [
    {
     "name": "stdout",
     "output_type": "stream",
     "text": [
      "Hello\n",
      "Hello\n"
     ]
    }
   ],
   "source": [
    "\"\"\"\n",
    "global variables\n",
    "\"\"\"\n",
    "\n",
    "a = \"Hello\" # global var.\n",
    "\n",
    "def prints_a():\n",
    "    print(a)\n",
    "    \n",
    "print(a)\n",
    "prints_a()"
   ]
  },
  {
   "cell_type": "code",
   "execution_count": 22,
   "id": "b6b6921a-e4ad-41a0-b7f5-28d55a566581",
   "metadata": {},
   "outputs": [
    {
     "name": "stdout",
     "output_type": "stream",
     "text": [
      "2\n"
     ]
    }
   ],
   "source": [
    "\"\"\"\n",
    "local variables\n",
    "\"\"\"\n",
    "\n",
    "b = 2 # global var.\n",
    "\n",
    "def f1():\n",
    "    # b = 3 # local var.\n",
    "    print(b)\n",
    "    \n",
    "f1()"
   ]
  },
  {
   "cell_type": "code",
   "execution_count": 24,
   "id": "80635ec4-a1e9-4912-83bf-1903732bb0ed",
   "metadata": {},
   "outputs": [
    {
     "name": "stdout",
     "output_type": "stream",
     "text": [
      "Height = 1\n",
      "Width = 2\n",
      "Depth = 3\n",
      "Height = 2\n",
      "Width = 1\n",
      "Depth = 3\n"
     ]
    },
    {
     "data": {
      "text/plain": [
       "6"
      ]
     },
     "execution_count": 24,
     "metadata": {},
     "output_type": "execute_result"
    }
   ],
   "source": [
    "\"\"\"\n",
    "keyword arguments and default values\n",
    "\"\"\"\n",
    "\n",
    "def findvolume(height, width, depth):\n",
    "    print(\"Height = %s\" % (height))\n",
    "    print(\"Width = %s\" % (width))\n",
    "    print(\"Depth = %s\" % (depth))\n",
    "    return height * width * depth\n",
    "\n",
    "# ex: height = 1, width = 2, depth = 3\n",
    "findvolume(1, 2, 3)\n",
    "findvolume(height = 2, width = 1, depth = 3)"
   ]
  }
 ],
 "metadata": {
  "kernelspec": {
   "display_name": "Python 3 (ipykernel)",
   "language": "python",
   "name": "python3"
  },
  "language_info": {
   "codemirror_mode": {
    "name": "ipython",
    "version": 3
   },
   "file_extension": ".py",
   "mimetype": "text/x-python",
   "name": "python",
   "nbconvert_exporter": "python",
   "pygments_lexer": "ipython3",
   "version": "3.8.8"
  }
 },
 "nbformat": 4,
 "nbformat_minor": 5
}
