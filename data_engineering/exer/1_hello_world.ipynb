{
 "cells": [
  {
   "cell_type": "code",
   "execution_count": 9,
   "id": "0930f048-d464-4f46-9d1e-d8788b42bf3c",
   "metadata": {},
   "outputs": [
    {
     "name": "stdout",
     "output_type": "stream",
     "text": [
      "Hello World!\n",
      "100\n",
      "3.14\n",
      "My name is Suan Jang\n"
     ]
    }
   ],
   "source": [
    "\"\"\"\n",
    "print() function\n",
    "\"\"\"\n",
    "\n",
    "print(\"Hello World!\")\n",
    "\n",
    "print(100)\n",
    "\n",
    "pi = 3.14\n",
    "print(pi)\n",
    "\n",
    "intro = \"My name is \"\n",
    "name = \"Suan Jang\"\n",
    "print(intro + name)"
   ]
  },
  {
   "cell_type": "code",
   "execution_count": 13,
   "id": "74036fa0-49e8-495b-840c-939dcc8f4037",
   "metadata": {},
   "outputs": [],
   "source": [
    "\"\"\"\n",
    "Variables\n",
    "\"\"\"\n",
    "\n",
    "user_name = \"Suan Jang\"\n",
    "user_id = 202055075\n",
    "user_email = \"tndks09@hs.ac.kr\"\n",
    "is_student = True\n",
    "\n",
    "# 본인을 표현할 수 있는 세 가지 이상의 정보를 변수로 정의하시오.\n",
    "\n",
    "user_blood_type = \"O\"\n",
    "user_age = 21\n",
    "is_female = True"
   ]
  },
  {
   "cell_type": "code",
   "execution_count": 14,
   "id": "b6574a0c-7eca-4716-afcd-6ae4b442570b",
   "metadata": {},
   "outputs": [],
   "source": [
    "\"\"\"\n",
    "Data Types: Integers\n",
    "\"\"\"\n",
    "\n",
    "chairs = 4\n",
    "tables = 1\n",
    "broken_chairs = -2\n",
    "sofas = 0\n",
    "\n",
    "# 본인의 집에 있는 사물의 개수를 정수 유형의 변수로 정의하시오.(세 가지 이상)\n",
    "\n",
    "notebooks = 5\n",
    "beds = 3\n",
    "televisions = 2"
   ]
  },
  {
   "cell_type": "code",
   "execution_count": 15,
   "id": "e2e3fc5d-f9cf-4c5e-ac6b-9c940d0b57d4",
   "metadata": {},
   "outputs": [],
   "source": [
    "\"\"\"\n",
    "Data Types: Real Numbers\n",
    "\"\"\"\n",
    "\n",
    "pi = 3.14\n",
    "kospi_index = 3125.76\n",
    "krw_usd_exchange = 1176.83\n",
    "\n",
    "# 본인이 알고 있는 실수를 변수로 정의하시오.(세 가지 이상)\n",
    "\n",
    "root_2 = 1.414\n",
    "root_3 = 1.732\n",
    "root_5 = 2.236"
   ]
  },
  {
   "cell_type": "code",
   "execution_count": 16,
   "id": "ef806ef7-2fdc-4981-88ed-9cd7a8f0f2b9",
   "metadata": {},
   "outputs": [],
   "source": [
    "\"\"\"\n",
    "Data Types: Strings\n",
    "\"\"\"\n",
    "\n",
    "favorite_motto = \"Chance favors the prepared mind.\"\n",
    "favorite_game = \"Elder scrolls\"\n",
    "favorite_athlete = 'Sonny'\n",
    "\n",
    "# 본인의 좋아하는 것들을 문자의 변수로 정의하시오.\n",
    "\n",
    "favorite_movie = \"Avengers\"\n",
    "favorite_music = \"Tiny Riot\"\n",
    "favorite_celebrity = 'IU'"
   ]
  },
  {
   "cell_type": "code",
   "execution_count": 20,
   "id": "da87778c-6cae-407b-84fd-1144a9539e42",
   "metadata": {
    "tags": []
   },
   "outputs": [
    {
     "name": "stdout",
     "output_type": "stream",
     "text": [
      "4.0\n"
     ]
    }
   ],
   "source": [
    "\"\"\"\n",
    "Plus-Equals Operations\n",
    "\"\"\"\n",
    "\n",
    "a = 8\n",
    "a /= 2 # a = a / 2\n",
    "print(a)"
   ]
  },
  {
   "cell_type": "code",
   "execution_count": 22,
   "id": "c2707a87-3cdd-4f20-90e5-9eacc1639e83",
   "metadata": {},
   "outputs": [
    {
     "name": "stdout",
     "output_type": "stream",
     "text": [
      "HSU\n"
     ]
    }
   ],
   "source": [
    "\"\"\"\n",
    "Errors\n",
    "\"\"\"\n",
    "\n",
    "# name Errors\n",
    "\n",
    "# print(my_school)\n",
    "my_school = \"HSU\"\n",
    "print(my_school)"
   ]
  }
 ],
 "metadata": {
  "kernelspec": {
   "display_name": "Python 3 (ipykernel)",
   "language": "python",
   "name": "python3"
  },
  "language_info": {
   "codemirror_mode": {
    "name": "ipython",
    "version": 3
   },
   "file_extension": ".py",
   "mimetype": "text/x-python",
   "name": "python",
   "nbconvert_exporter": "python",
   "pygments_lexer": "ipython3",
   "version": "3.8.8"
  }
 },
 "nbformat": 4,
 "nbformat_minor": 5
}
