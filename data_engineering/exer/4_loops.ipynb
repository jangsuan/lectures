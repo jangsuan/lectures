{
 "cells": [
  {
   "cell_type": "code",
   "execution_count": 4,
   "id": "f62c5755-7ec2-43d9-b12e-ba27d58cc1fe",
   "metadata": {},
   "outputs": [
    {
     "name": "stdout",
     "output_type": "stream",
     "text": [
      "1\n",
      "2\n",
      "3\n",
      "4\n",
      "5\n",
      "0\n",
      "1\n",
      "2\n",
      "3\n"
     ]
    }
   ],
   "source": [
    "\"\"\"\n",
    "for loops\n",
    "\"\"\"\n",
    "\n",
    "nums = [1, 2, 3, 4, 5]\n",
    "for num in nums:\n",
    "    print(num)\n",
    "\n",
    "# range()\n",
    "for i in range(4):\n",
    "    print(i)"
   ]
  },
  {
   "cell_type": "code",
   "execution_count": 9,
   "id": "cc6cf6f8-15d3-4a93-8b7f-9b164f817dd1",
   "metadata": {},
   "outputs": [
    {
     "name": "stdout",
     "output_type": "stream",
     "text": [
      "1\n",
      "2\n",
      "4\n",
      "5\n",
      "2\n"
     ]
    }
   ],
   "source": [
    "\"\"\"\n",
    "continue keyword\n",
    "\"\"\"\n",
    "\n",
    "nums = [1, 2, -1, 4, -5, 5, 2, -9]\n",
    "\n",
    "for num in nums:\n",
    "    # if num is negative, we skip it.\n",
    "    if num < 0:\n",
    "        continue\n",
    "    print(num)"
   ]
  },
  {
   "cell_type": "code",
   "execution_count": 15,
   "id": "3869aca2-ed86-49a1-b121-7f0099568abc",
   "metadata": {},
   "outputs": [
    {
     "name": "stdout",
     "output_type": "stream",
     "text": [
      "stage1 is complete.\n",
      "stage2 is complete.\n",
      "stage3 is complete.\n",
      "Game is Over...\n"
     ]
    }
   ],
   "source": [
    "\"\"\"\n",
    "break keyword\n",
    "\"\"\"\n",
    "\n",
    "game_plays = ['stage1', 'stage2', 'stage3', 'gameover', 'stage4', 'stage5']\n",
    "\n",
    "for play in game_plays:\n",
    "    if play == 'gameover':\n",
    "        print(\"Game is Over...\")\n",
    "        break\n",
    "    print(play + \" is complete.\")"
   ]
  },
  {
   "cell_type": "code",
   "execution_count": 20,
   "id": "e0b21b94-ff43-4baa-94fd-4bb9112b70e1",
   "metadata": {},
   "outputs": [
    {
     "name": "stdout",
     "output_type": "stream",
     "text": [
      "[1, 2, 3, 4, 5, 6, 7, 8, 9, 10]\n"
     ]
    }
   ],
   "source": [
    "\"\"\"\n",
    "list comprehension\n",
    "\"\"\"\n",
    "\n",
    "one_to_ten = [i+1 for i in range(10)]\n",
    "print(one_to_ten)"
   ]
  },
  {
   "cell_type": "code",
   "execution_count": 27,
   "id": "35b70fd6-71e1-4280-86cf-0976670580cb",
   "metadata": {},
   "outputs": [
    {
     "name": "stdout",
     "output_type": "stream",
     "text": [
      "['손흥민']\n"
     ]
    }
   ],
   "source": [
    "\"\"\"\n",
    "list comprehension including conditions\n",
    "\"\"\"\n",
    "\n",
    "hotspurs = [['손흥민', 'A+'], ['해리 케인', 'F'], ['탕기 은돔벨레', 'F'], \n",
    "            ['델리 알리', 'B'], ['루카스 모우라', 'B+'], ['이메르송', 'D']]\n",
    "\n",
    "poors = [player[0] for player in hotspurs if player[1] == 'A+']\n",
    "\n",
    "print(poors)"
   ]
  },
  {
   "cell_type": "code",
   "execution_count": 28,
   "id": "d1943038-6502-45c4-b291-1fa856e1f75c",
   "metadata": {},
   "outputs": [
    {
     "name": "stdout",
     "output_type": "stream",
     "text": [
      "1 x 1 = 1\n",
      "1 x 2 = 2\n",
      "1 x 3 = 3\n",
      "1 x 4 = 4\n",
      "1 x 5 = 5\n",
      "1 x 6 = 6\n",
      "1 x 7 = 7\n",
      "1 x 8 = 8\n",
      "1 x 9 = 9\n",
      "2 x 1 = 2\n",
      "2 x 2 = 4\n",
      "2 x 3 = 6\n",
      "2 x 4 = 8\n",
      "2 x 5 = 10\n",
      "2 x 6 = 12\n",
      "2 x 7 = 14\n",
      "2 x 8 = 16\n",
      "2 x 9 = 18\n",
      "3 x 1 = 3\n",
      "3 x 2 = 6\n",
      "3 x 3 = 9\n",
      "3 x 4 = 12\n",
      "3 x 5 = 15\n",
      "3 x 6 = 18\n",
      "3 x 7 = 21\n",
      "3 x 8 = 24\n",
      "3 x 9 = 27\n",
      "4 x 1 = 4\n",
      "4 x 2 = 8\n",
      "4 x 3 = 12\n",
      "4 x 4 = 16\n",
      "4 x 5 = 20\n",
      "4 x 6 = 24\n",
      "4 x 7 = 28\n",
      "4 x 8 = 32\n",
      "4 x 9 = 36\n",
      "5 x 1 = 5\n",
      "5 x 2 = 10\n",
      "5 x 3 = 15\n",
      "5 x 4 = 20\n",
      "5 x 5 = 25\n",
      "5 x 6 = 30\n",
      "5 x 7 = 35\n",
      "5 x 8 = 40\n",
      "5 x 9 = 45\n",
      "6 x 1 = 6\n",
      "6 x 2 = 12\n",
      "6 x 3 = 18\n",
      "6 x 4 = 24\n",
      "6 x 5 = 30\n",
      "6 x 6 = 36\n",
      "6 x 7 = 42\n",
      "6 x 8 = 48\n",
      "6 x 9 = 54\n",
      "7 x 1 = 7\n",
      "7 x 2 = 14\n",
      "7 x 3 = 21\n",
      "7 x 4 = 28\n",
      "7 x 5 = 35\n",
      "7 x 6 = 42\n",
      "7 x 7 = 49\n",
      "7 x 8 = 56\n",
      "7 x 9 = 63\n",
      "8 x 1 = 8\n",
      "8 x 2 = 16\n",
      "8 x 3 = 24\n",
      "8 x 4 = 32\n",
      "8 x 5 = 40\n",
      "8 x 6 = 48\n",
      "8 x 7 = 56\n",
      "8 x 8 = 64\n",
      "8 x 9 = 72\n",
      "9 x 1 = 9\n",
      "9 x 2 = 18\n",
      "9 x 3 = 27\n",
      "9 x 4 = 36\n",
      "9 x 5 = 45\n",
      "9 x 6 = 54\n",
      "9 x 7 = 63\n",
      "9 x 8 = 72\n",
      "9 x 9 = 81\n"
     ]
    }
   ],
   "source": [
    "\"\"\"\n",
    "nested loops\n",
    "\"\"\"\n",
    "\n",
    "one_to_nine = [i+1 for i in range(9)]\n",
    "\n",
    "for i in one_to_nine:\n",
    "    for j in one_to_nine:\n",
    "        print(\"%d x %d = %d\" % (i, j, i*j))"
   ]
  },
  {
   "cell_type": "code",
   "execution_count": 32,
   "id": "6ec7e7c1-645a-410f-bb35-b01a2955f369",
   "metadata": {},
   "outputs": [
    {
     "name": "stdout",
     "output_type": "stream",
     "text": [
      "참치김밥 냠냠\n",
      "순대 냠냠\n",
      "로제떡볶이 냠냠\n",
      "김말이오뎅 냠냠\n",
      "배부르다.. 여기까지\n"
     ]
    }
   ],
   "source": [
    "\"\"\"\n",
    "while loops\n",
    "\"\"\"\n",
    "\n",
    "humgry = True\n",
    "foods_on_table = ['참치김밥', '순대', '로제떡볶이', '김말이'\n",
    "                 '오뎅', '단무지', '고로케']\n",
    "foods_num = 7 # 음식 수\n",
    "ate_num = 0 # 먹은 음식 수\n",
    "\n",
    "while ate_num < 4:\n",
    "    print(foods_on_table[ate_num] + \" 냠냠\")\n",
    "    ate_num += 1\n",
    "    \n",
    "print(\"배부르다.. 여기까지\")"
   ]
  }
 ],
 "metadata": {
  "kernelspec": {
   "display_name": "Python 3 (ipykernel)",
   "language": "python",
   "name": "python3"
  },
  "language_info": {
   "codemirror_mode": {
    "name": "ipython",
    "version": 3
   },
   "file_extension": ".py",
   "mimetype": "text/x-python",
   "name": "python",
   "nbconvert_exporter": "python",
   "pygments_lexer": "ipython3",
   "version": "3.8.8"
  }
 },
 "nbformat": 4,
 "nbformat_minor": 5
}
