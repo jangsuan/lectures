{
 "cells": [
  {
   "cell_type": "code",
   "execution_count": 18,
   "id": "37ed8e53-1ee0-4c82-b86f-14bdcfe7bfb2",
   "metadata": {},
   "outputs": [
    {
     "name": "stdout",
     "output_type": "stream",
     "text": [
      "Average Haircut Price 31.875\n",
      "[25, 20, 35, 15, 15, 30, 45, 30]\n",
      "Average daily revenue is 155.0\n",
      "['bouffant', 'pixie', 'crew', 'bowl']\n"
     ]
    }
   ],
   "source": [
    "\"\"\"\n",
    "hw3_carlys_clippers\n",
    "\"\"\"\n",
    "\n",
    "# provided with three lists\n",
    "hairstyles = [\"bouffant\", \"pixie\", \"dreadlocks\", \"crew\", \"bowl\", \"bob\", \"mohawk\", \"flattop\"]\n",
    "prices = [30, 25, 40, 20, 20, 35, 50, 35]\n",
    "last_week = [2, 3, 5, 8, 4, 4, 6, 2]\n",
    "\n",
    "# Prices and Cuts\n",
    "total_price = 0\n",
    "for price in prices:\n",
    "  total_price += price\n",
    "\n",
    "average_price = total_price / len(prices)\n",
    "print(\"Average Haircut Price \" + str(average_price))\n",
    "\n",
    "new_prices = [price -5 for price in  prices]\n",
    "print(new_prices)\n",
    "\n",
    "# Revenue\n",
    "total_revenue = 0\n",
    "for i in range(len(hairstyles)):\n",
    "  total_revenue += prices[i] * last_week[i]\n",
    "\n",
    "average_daily_revenue = total_revenue / 7\n",
    "print(\"Average daily revenue is \" + str(average_daily_revenue))\n",
    "\n",
    "cuts_under_30 = [hairstyles[i] for i in range(len(hairstyles)) if new_prices[i] < 30 ]    \n",
    "print(cuts_under_30)"
   ]
  }
 ],
 "metadata": {
  "kernelspec": {
   "display_name": "Python 3 (ipykernel)",
   "language": "python",
   "name": "python3"
  },
  "language_info": {
   "codemirror_mode": {
    "name": "ipython",
    "version": 3
   },
   "file_extension": ".py",
   "mimetype": "text/x-python",
   "name": "python",
   "nbconvert_exporter": "python",
   "pygments_lexer": "ipython3",
   "version": "3.8.8"
  }
 },
 "nbformat": 4,
 "nbformat_minor": 5
}
