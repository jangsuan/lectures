{
 "cells": [
  {
   "cell_type": "code",
   "execution_count": 23,
   "id": "ce56e51f-50d3-4559-a552-00abe2cd3341",
   "metadata": {},
   "outputs": [
    {
     "name": "stdout",
     "output_type": "stream",
     "text": [
      "[['physics', 98], ['calculus', 97], ['poetry', 85], ['history', 88]]\n",
      "[['physics', 98], ['calculus', 97], ['poetry', 85], ['history', 88], ['computer science', 100], ['visual arts', 93]]\n",
      "[['physics', 98], ['calculus', 97], ['poetry', 'Pass'], ['history', 88], ['computer science', 100], ['visual arts', 98]]\n",
      "[['politics', 80], ['latin', 96], ['dance', 97], ['architecture', 65], ['physics', 98], ['calculus', 97], ['poetry', 'Pass'], ['history', 88], ['computer science', 100], ['visual arts', 98]]\n"
     ]
    }
   ],
   "source": [
    "\"\"\"\n",
    "hw2_gradebook\n",
    "\"\"\"\n",
    "\n",
    "# Create Some Lists\n",
    "subjects = [\"physics\", \"calculus\", \"poetry\", \"history\"]\n",
    "grades = [98, 97, 85, 88]\n",
    "gradebook = [[subjects[0], grades[0]], [subjects[1], grades[1]], [subjects[2], grades[2]], [subjects[3], grades[3]]]\n",
    "print(gradebook)\n",
    "\n",
    "gradebook.append([\"computer science\", 100])\n",
    "gradebook.append([\"visual arts\", 93])\n",
    "print(gradebook)\n",
    "\n",
    "# Modify The Gradebook\n",
    "gradebook[5][1] = 98\n",
    "gradebook[gradebook.index([\"poetry\", 85])].remove(85)\n",
    "gradebook[gradebook.index([\"poetry\"])].append(\"Pass\")\n",
    "print(gradebook)\n",
    "\n",
    "# full gradebook\n",
    "last_semester_gradebook = [[\"politics\", 80], [\"latin\", 96], [\"dance\", 97], [\"architecture\", 65]]\n",
    "full_gradebook = last_semester_gradebook + gradebook\n",
    "print(full_gradebook)"
   ]
  }
 ],
 "metadata": {
  "kernelspec": {
   "display_name": "Python 3 (ipykernel)",
   "language": "python",
   "name": "python3"
  },
  "language_info": {
   "codemirror_mode": {
    "name": "ipython",
    "version": 3
   },
   "file_extension": ".py",
   "mimetype": "text/x-python",
   "name": "python",
   "nbconvert_exporter": "python",
   "pygments_lexer": "ipython3",
   "version": "3.8.8"
  }
 },
 "nbformat": 4,
 "nbformat_minor": 5
}
