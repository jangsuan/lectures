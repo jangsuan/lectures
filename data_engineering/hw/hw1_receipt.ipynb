"""
hw1_receipt
"""

# Lovely Loveseat에 관련된 문자열과 가격 설정.
lovely_loveseat_description = "Lovely loveseat. Tufted polyester blend on wood. 32 inches high x 40 inches wide x 30 inches deep. Red or white."
lovely_loveseat_price = 254.00
# Stylish Settee에 관련된 문자열과 가격 설정.
stylish_settee_description = "Stylish Settee. Faux leather on birch. 29.50 inches high x 54.75 inches x 28 inches deep. Black."
stylish_settee_price = 180.50
# Luxurious Lamp에 관련된 문자열과 가격 설정.
luxurious_lamp_description = "Luxurious Lamp. Glass and Iron. 36 inches tall. Brown with cream shade."
luxurious_lamp_price = 52.15
# 판매세 설정.
sales_tax = 0.088
# Our First Customer
customer_one_total = 0
customer_one_itemization = " "
customer_one_total += lovely_loveseat_price
customer_one_itemization += lovely_loveseat_description
customer_one_total += luxurious_lamp_price
customer_one_itemization += luxurious_lamp_description
customer_one_tax = customer_one_total * sales_tax
customer_one_total = customer_one_total + customer_one_tax
print("Customer One Items: ")
print(customer_one_itemization)
print("Customer One Total: ")
print(customer_one_total)
